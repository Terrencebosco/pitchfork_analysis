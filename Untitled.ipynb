{
 "cells": [
  {
   "cell_type": "code",
   "execution_count": 3,
   "metadata": {},
   "outputs": [],
   "source": [
    "import numpy as np\n",
    "import pandas as pd\n",
    "import sqlite3\n",
    "import os"
   ]
  },
  {
   "cell_type": "code",
   "execution_count": 32,
   "metadata": {},
   "outputs": [],
   "source": [
    "connection = sqlite3.connect('/home/terrence/repos/data/project_datasets/pitchfork.sqlite')\n",
    "cursor = connection.cursor()"
   ]
  },
  {
   "cell_type": "code",
   "execution_count": null,
   "metadata": {},
   "outputs": [],
   "source": [
    "def run_query(query):\n",
    "    cursor = connection.cursor()\n",
    "    cursor.execute(query)\n",
    "    result = cursor.fetchall()\n",
    "    cursor.close()\n",
    "    return(result)"
   ]
  },
  {
   "cell_type": "code",
   "execution_count": 35,
   "metadata": {},
   "outputs": [],
   "source": [
    "q1 = '''SELECT * FROM artists'''\n",
    "esult = cursor.execute(q1).fetchall()\n",
    "len(result)"
   ]
  },
  {
   "cell_type": "code",
   "execution_count": 72,
   "metadata": {},
   "outputs": [
    {
     "data": {
      "text/plain": [
       "[('electronic',),\n",
       " ('metal',),\n",
       " ('rock',),\n",
       " (None,),\n",
       " ('rap',),\n",
       " ('experimental',),\n",
       " ('pop/r&b',),\n",
       " ('folk/country',),\n",
       " ('jazz',),\n",
       " ('global',)]"
      ]
     },
     "execution_count": 72,
     "metadata": {},
     "output_type": "execute_result"
    }
   ],
   "source": [
    "q2 = 'SELECT DISTINCT genre FROM genres'\n",
    "genres = run_query(q2)\n",
    "genres"
   ]
  },
  {
   "cell_type": "code",
   "execution_count": 71,
   "metadata": {},
   "outputs": [
    {
     "data": {
      "text/plain": [
       "[(None, 2367),\n",
       " ('electronic', 3874),\n",
       " ('experimental', 1815),\n",
       " ('folk/country', 685),\n",
       " ('global', 217),\n",
       " ('jazz', 435),\n",
       " ('metal', 860),\n",
       " ('pop/r&b', 1432),\n",
       " ('rap', 1559),\n",
       " ('rock', 9436)]"
      ]
     },
     "execution_count": 71,
     "metadata": {},
     "output_type": "execute_result"
    }
   ],
   "source": [
    "q4 = 'SELECT genre, COUNT(*) FROM genres GROUP BY genre'\n",
    "r = run_query(q4)\n",
    "r"
   ]
  },
  {
   "cell_type": "code",
   "execution_count": null,
   "metadata": {},
   "outputs": [],
   "source": [
    "# TODO // look into\n",
    "\n",
    "## average score based on contributer type\n",
    "\n",
    "## analysis of each genre\n",
    "\n",
    "## average rating by artist\n",
    "\n",
    "## average rating by genre\n",
    "\n",
    "## rating vs timedate\n",
    "\n",
    "## k means by content?\n",
    "\n",
    "## best new music analysis. gather data based on best new artist?, lowest rating, what didnt they like.\n",
    "\n",
    "## most new reviews \n",
    "\n",
    "## text analysis on content table"
   ]
  },
  {
   "cell_type": "code",
   "execution_count": null,
   "metadata": {},
   "outputs": [],
   "source": [
    "## schima \n",
    "\n",
    "## i want the artist, the content for that artist, review score for that artist...\n",
    "\n",
    "#### model, score vs content.\n",
    "\n",
    "## plot with pca of review vector."
   ]
  }
 ],
 "metadata": {
  "kernelspec": {
   "display_name": "unit4sprint2",
   "language": "python",
   "name": "unit4sprint2"
  },
  "language_info": {
   "codemirror_mode": {
    "name": "ipython",
    "version": 3
   },
   "file_extension": ".py",
   "mimetype": "text/x-python",
   "name": "python",
   "nbconvert_exporter": "python",
   "pygments_lexer": "ipython3",
   "version": "3.7.0"
  }
 },
 "nbformat": 4,
 "nbformat_minor": 4
}
